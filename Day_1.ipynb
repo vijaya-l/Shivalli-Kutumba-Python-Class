{
  "nbformat": 4,
  "nbformat_minor": 0,
  "metadata": {
    "colab": {
      "name": "Day 1.ipynb",
      "provenance": [],
      "collapsed_sections": [],
      "authorship_tag": "ABX9TyNKy4d4gmJ/epANzpbgb8Ml",
      "include_colab_link": true
    },
    "kernelspec": {
      "name": "python3",
      "display_name": "Python 3"
    },
    "language_info": {
      "name": "python"
    }
  },
  "cells": [
    {
      "cell_type": "markdown",
      "metadata": {
        "id": "view-in-github",
        "colab_type": "text"
      },
      "source": [
        "<a href=\"https://colab.research.google.com/github/vijaya-l/Shivalli-Kutumba-Python-Class/blob/main/Day_1.ipynb\" target=\"_parent\"><img src=\"https://colab.research.google.com/assets/colab-badge.svg\" alt=\"Open In Colab\"/></a>"
      ]
    },
    {
      "cell_type": "markdown",
      "source": [
        "## What is Python\n",
        "Python is a computer programming language. Programming languages are a way to instruct computers to perform tasks.\n",
        "\n",
        "Python is a versatile language that is **easy to learn** and write, and although perfect for beginning programmers, is just as useful and powerful for seasoned professionals.\n",
        "\n",
        "Its original creator, **Guido van Rossum**, named it after the BBC television show ‘*Monty Python’s Flying Circus*.’ Hence, you’ll find that Python books, code examples, and documentation sometimes contain references to this television show. "
      ],
      "metadata": {
        "id": "inPlVmWk2a-0"
      }
    },
    {
      "cell_type": "code",
      "source": [
        "print(\"Hello world!\")"
      ],
      "metadata": {
        "colab": {
          "base_uri": "https://localhost:8080/"
        },
        "id": "9nmsShn-3cAf",
        "outputId": "08efee8d-d36a-4c3d-92c2-2b677870af57"
      },
      "execution_count": null,
      "outputs": [
        {
          "output_type": "stream",
          "name": "stdout",
          "text": [
            "Hello world!\n"
          ]
        }
      ]
    },
    {
      "cell_type": "markdown",
      "source": [
        "### How to print multiple lines"
      ],
      "metadata": {
        "id": "WvWvjYom241j"
      }
    },
    {
      "cell_type": "code",
      "source": [
        "# Method 1\n",
        "print(\"line1\")\n",
        "print(\"line2\")\n"
      ],
      "metadata": {
        "colab": {
          "base_uri": "https://localhost:8080/"
        },
        "id": "rysUSCyW3MpL",
        "outputId": "155528ce-8aee-4b3d-f659-3077bbf7420c"
      },
      "execution_count": null,
      "outputs": [
        {
          "output_type": "stream",
          "name": "stdout",
          "text": [
            "line1\n",
            "line2\n"
          ]
        }
      ]
    },
    {
      "cell_type": "code",
      "source": [
        "# Method 2\n",
        "print(\"line1 \\n line2\")"
      ],
      "metadata": {
        "colab": {
          "base_uri": "https://localhost:8080/"
        },
        "id": "cdd1U--724e6",
        "outputId": "b5a2d1d9-5933-47c0-ebee-2d74427e45fa"
      },
      "execution_count": null,
      "outputs": [
        {
          "output_type": "stream",
          "name": "stdout",
          "text": [
            "line1 \n",
            " line2\n"
          ]
        }
      ]
    },
    {
      "cell_type": "code",
      "source": [
        "# Method 3\n",
        "print(\n",
        "\"\"\"\n",
        "line1\n",
        "line2\n",
        "\"\"\"\n",
        ")"
      ],
      "metadata": {
        "colab": {
          "base_uri": "https://localhost:8080/"
        },
        "id": "vgT_pR7Z3DPs",
        "outputId": "fd2890e6-0f5d-4af7-8de4-830f4ebb44d3"
      },
      "execution_count": null,
      "outputs": [
        {
          "output_type": "stream",
          "name": "stdout",
          "text": [
            "\n",
            "line1\n",
            "line2\n",
            "\n"
          ]
        }
      ]
    },
    {
      "cell_type": "code",
      "execution_count": null,
      "metadata": {
        "colab": {
          "base_uri": "https://localhost:8080/"
        },
        "id": "54xSa1lu0lau",
        "outputId": "d62aa072-38d3-480b-ad18-b66ff42d0b80"
      },
      "outputs": [
        {
          "output_type": "stream",
          "name": "stdout",
          "text": [
            "Hi all, I'm Krishna \n",
            " I live in Mysore, India\n",
            "I'm interested in learning Python\n",
            "\n",
            "I have done Master's degree of Computer Application.\n",
            "I have worked as a programmer analyst for 3 years for cognizant in India.\n",
            "My hobbies are painting,cooking.\n",
            "In my free time I Learning Python. \n",
            "\n"
          ]
        }
      ],
      "source": [
        "print(\"Hi all, I'm Krishna \\n I live in Mysore, India\")\n",
        "print(\"I'm interested in learning Python\")\n",
        "print('''\n",
        "I have done Master's degree of Computer Application.\n",
        "I have worked as a programmer analyst for 3 years for cognizant in India.\n",
        "My hobbies are painting,cooking.\n",
        "In my free time I Learning Python. \n",
        "''')"
      ]
    }
  ]
}